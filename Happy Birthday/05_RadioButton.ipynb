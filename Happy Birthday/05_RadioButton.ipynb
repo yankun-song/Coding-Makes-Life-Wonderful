{
 "cells": [
  {
   "cell_type": "code",
   "execution_count": 5,
   "metadata": {},
   "outputs": [],
   "source": [
    "from tkinter import *\n",
    "root = Tk()\n",
    "# program title\n",
    "root.title(\"Happy Birthday\")\n",
    "# program icon \n",
    "root.iconbitmap(\"C:/Users/Yankun/Desktop/favicon.ico\")\n",
    "\n",
    "r = IntVar()\n",
    "r.set(\"2\")\n",
    "\n",
    "def clicked(value):\n",
    "    myLabel = Label(root, text=value)\n",
    "    myLabel.pack()\n",
    "\n",
    "Radiobutton(root, text=\"Option1\", variable=r, value=1, command=lambda: clicked(r.get())).pack()\n",
    "Radiobutton(root, text=\"Option2\", variable=r, value=2,command=lambda: clicked(r.get())).pack()\n",
    "\n",
    "myLabel = Label(root, text=r.get())\n",
    "myLabel.pack()\n",
    "\n",
    "\n",
    "root.mainloop()"
   ]
  },
  {
   "cell_type": "code",
   "execution_count": null,
   "metadata": {},
   "outputs": [],
   "source": [
    "#12 not finished"
   ]
  }
 ],
 "metadata": {
  "kernelspec": {
   "display_name": "Python 3",
   "language": "python",
   "name": "python3"
  },
  "language_info": {
   "codemirror_mode": {
    "name": "ipython",
    "version": 3
   },
   "file_extension": ".py",
   "mimetype": "text/x-python",
   "name": "python",
   "nbconvert_exporter": "python",
   "pygments_lexer": "ipython3",
   "version": "3.8.3"
  }
 },
 "nbformat": 4,
 "nbformat_minor": 4
}
