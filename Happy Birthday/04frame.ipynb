{
 "cells": [
  {
   "cell_type": "code",
   "execution_count": 8,
   "metadata": {},
   "outputs": [],
   "source": [
    "from tkinter import *\n",
    "root = Tk()\n",
    "# program title\n",
    "root.title(\"Happy Birthday\")\n",
    "# program icon \n",
    "root.iconbitmap(\"C:/Users/Yankun/Desktop/favicon.ico\")\n",
    "\n",
    "frame = LabelFrame(root, text=\"This is my frame\", padx=50, pady=50)\n",
    "frame.pack()\n",
    "\n",
    "b = Button(frame, text=\"Don't click here!\")\n",
    "b.pack()\n",
    "\n",
    "\n",
    "root.mainloop()"
   ]
  },
  {
   "cell_type": "code",
   "execution_count": null,
   "metadata": {},
   "outputs": [],
   "source": []
  }
 ],
 "metadata": {
  "kernelspec": {
   "display_name": "Python 3",
   "language": "python",
   "name": "python3"
  },
  "language_info": {
   "codemirror_mode": {
    "name": "ipython",
    "version": 3
   },
   "file_extension": ".py",
   "mimetype": "text/x-python",
   "name": "python",
   "nbconvert_exporter": "python",
   "pygments_lexer": "ipython3",
   "version": "3.8.3"
  }
 },
 "nbformat": 4,
 "nbformat_minor": 4
}
