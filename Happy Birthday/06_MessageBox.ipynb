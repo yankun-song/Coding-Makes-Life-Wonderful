{
 "cells": [
  {
   "cell_type": "code",
   "execution_count": 4,
   "metadata": {},
   "outputs": [],
   "source": [
    "from tkinter import *\n",
    "from tkinter import messagebox\n",
    "root = Tk()\n",
    "# program title\n",
    "root.title(\"Happy Birthday\")\n",
    "# program icon \n",
    "root.iconbitmap(\"C:/Users/Yankun/Desktop/favicon.ico\")\n",
    "\n",
    "# showinfo, showwarning, showerror, askquestion, askokcancel, askyesno\n",
    "def popup():\n",
    "    response = messagebox.askyesno(\"This is my popup\", \"hello\")\n",
    "    Label(root, text=response).pack()\n",
    "    if response == 1:\n",
    "        Label(root, text=\"You clicked yes!\").pack()\n",
    "\n",
    "Button(root, text=\"Pop\", command=popup).pack()\n",
    "\n",
    "root.mainloop()"
   ]
  },
  {
   "cell_type": "code",
   "execution_count": null,
   "metadata": {},
   "outputs": [],
   "source": []
  }
 ],
 "metadata": {
  "kernelspec": {
   "display_name": "Python 3",
   "language": "python",
   "name": "python3"
  },
  "language_info": {
   "codemirror_mode": {
    "name": "ipython",
    "version": 3
   },
   "file_extension": ".py",
   "mimetype": "text/x-python",
   "name": "python",
   "nbconvert_exporter": "python",
   "pygments_lexer": "ipython3",
   "version": "3.8.3"
  }
 },
 "nbformat": 4,
 "nbformat_minor": 4
}
