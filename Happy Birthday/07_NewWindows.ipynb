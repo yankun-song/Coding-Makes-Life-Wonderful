{
 "cells": [
  {
   "cell_type": "code",
   "execution_count": 7,
   "metadata": {},
   "outputs": [],
   "source": [
    "from tkinter import *\n",
    "from PIL import ImageTk, Image\n",
    "\n",
    "root = Tk()\n",
    "root.title(\"Simple Calculator\")\n",
    "root.iconbitmap(\"C:/Users/Yankun/Desktop/favicon.ico\")\n",
    "\n",
    "def open():\n",
    "    global my_img\n",
    "    top = Toplevel()\n",
    "    top.title(\"My 2nd window\")\n",
    "    top.iconbitmap(\"C:/Users/Yankun/Desktop/favicon.ico\")\n",
    "    my_img = ImageTk.PhotoImage(Image.open(\"panda.png\"))\n",
    "    my_label = Label(top, image=my_img).pack() \n",
    "    \n",
    "    btn2 = Button(top, text=\"close window\", command=top.destroy).pack()\n",
    "\n",
    "\n",
    "\n",
    "\n",
    "\n",
    "\n",
    "\n",
    "\n",
    "btn = Button(root, text=\"Open Second Window\", command=open).pack()\n",
    "\n",
    "\n",
    "\n",
    "\n",
    "mainloop()"
   ]
  },
  {
   "cell_type": "code",
   "execution_count": null,
   "metadata": {},
   "outputs": [],
   "source": []
  }
 ],
 "metadata": {
  "kernelspec": {
   "display_name": "Python 3",
   "language": "python",
   "name": "python3"
  },
  "language_info": {
   "codemirror_mode": {
    "name": "ipython",
    "version": 3
   },
   "file_extension": ".py",
   "mimetype": "text/x-python",
   "name": "python",
   "nbconvert_exporter": "python",
   "pygments_lexer": "ipython3",
   "version": "3.8.3"
  }
 },
 "nbformat": 4,
 "nbformat_minor": 4
}
