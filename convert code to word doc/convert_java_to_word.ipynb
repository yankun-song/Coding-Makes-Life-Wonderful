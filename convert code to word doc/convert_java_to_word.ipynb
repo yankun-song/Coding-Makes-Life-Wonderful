{
 "cells": [
  {
   "cell_type": "code",
   "execution_count": 3,
   "id": "44d2a219",
   "metadata": {},
   "outputs": [],
   "source": [
    "import os\n",
    "import re\n",
    "import docx\n",
    "\n",
    "from docx import Document\n",
    "from docxcompose.composer import Composer"
   ]
  },
  {
   "cell_type": "code",
   "execution_count": 39,
   "id": "8cec200d",
   "metadata": {},
   "outputs": [],
   "source": [
    "def combine_to_doc(chapter):\n",
    "    # get all the filenames\n",
    "    dirs = os.listdir(\".\")\n",
    "    \n",
    "    mydoc = docx.Document()\n",
    "    mydoc.add_heading(\"Chapter {0} Exercises\".format(chapter), 0)\n",
    "\n",
    "    for filename in dirs:\n",
    "        if filename.split(\".\")[1] != \"java\":\n",
    "            continue\n",
    "            \n",
    "        question_name = filename.split(\".\")[0]\n",
    "        \n",
    "        with open(filename) as f:\n",
    "            lines = f.readlines()\n",
    "        \n",
    "        \n",
    "        p = mydoc.add_paragraph()\n",
    "\n",
    "        runner = p.add_run(\"======\" + question_name + \"======\")\n",
    "        runner.bold = True\n",
    "        \n",
    "        for line in lines:\n",
    "            line = line.rstrip()\n",
    "            mydoc.add_paragraph(line)\n",
    "\n",
    "    mydoc.save(chapter + \".docx\")\n",
    "\n",
    "    "
   ]
  },
  {
   "cell_type": "code",
   "execution_count": 40,
   "id": "592c2938",
   "metadata": {},
   "outputs": [],
   "source": [
    "combine_to_doc(\"2\")"
   ]
  },
  {
   "cell_type": "code",
   "execution_count": 16,
   "id": "eed27565",
   "metadata": {},
   "outputs": [],
   "source": [
    "def combine_docs():\n",
    "    dirs = os.listdir(\".\")\n",
    "    files = []\n",
    "    for file in dirs:\n",
    "        if file.split(\".\")[1] == \"docx\":\n",
    "            files.append(file)\n",
    "\n",
    "\n",
    "    print(files)\n",
    "    \n",
    "    composed = \"combined.docx\"\n",
    "    \n",
    "    result = Document()\n",
    "    result.add_paragraph(\"The textbook used is Stepp, M., & Reges, S. (2010). Building Java Programs: A Back to Basics Approach.\")\n",
    "    result.add_paragraph(\"This document was converted automatically from .java codes to .docx document by my code. \\\n",
    "The questions in each chapter were in alphabetical order.\")\n",
    "    result.add_paragraph(\"\")\n",
    "\n",
    "    # result.add_paragraph(\"The textbook used is Stepp, M., & Reges, S. (2010). Building Java Programs: A Back to Basics Approach.\")\n",
    "    # result.add_page_break()\n",
    "    composer = Composer(result)\n",
    "\n",
    "    for i in range(len(files)):\n",
    "        doc = Document(files[i])\n",
    "\n",
    "        if i != len(files) - 1:\n",
    "            doc.add_page_break()\n",
    "\n",
    "        composer.append(doc)\n",
    "\n",
    "    composer.save(composed)\n"
   ]
  },
  {
   "cell_type": "code",
   "execution_count": 17,
   "id": "5a86295b",
   "metadata": {},
   "outputs": [
    {
     "name": "stdout",
     "output_type": "stream",
     "text": [
      "['1.docx', '2.docx']\n"
     ]
    }
   ],
   "source": [
    "combine_docs()"
   ]
  },
  {
   "cell_type": "code",
   "execution_count": null,
   "id": "c0b24070",
   "metadata": {},
   "outputs": [],
   "source": []
  },
  {
   "cell_type": "code",
   "execution_count": null,
   "id": "ba18661f",
   "metadata": {},
   "outputs": [],
   "source": []
  },
  {
   "cell_type": "code",
   "execution_count": 12,
   "id": "961542ad",
   "metadata": {},
   "outputs": [],
   "source": []
  },
  {
   "cell_type": "code",
   "execution_count": null,
   "id": "fdde297d",
   "metadata": {},
   "outputs": [],
   "source": []
  },
  {
   "cell_type": "code",
   "execution_count": null,
   "id": "e9cca4f0",
   "metadata": {},
   "outputs": [],
   "source": []
  },
  {
   "cell_type": "code",
   "execution_count": null,
   "id": "c8b4c634",
   "metadata": {},
   "outputs": [],
   "source": []
  }
 ],
 "metadata": {
  "kernelspec": {
   "display_name": "Python 3",
   "language": "python",
   "name": "python3"
  },
  "language_info": {
   "codemirror_mode": {
    "name": "ipython",
    "version": 3
   },
   "file_extension": ".py",
   "mimetype": "text/x-python",
   "name": "python",
   "nbconvert_exporter": "python",
   "pygments_lexer": "ipython3",
   "version": "3.8.8"
  }
 },
 "nbformat": 4,
 "nbformat_minor": 5
}
