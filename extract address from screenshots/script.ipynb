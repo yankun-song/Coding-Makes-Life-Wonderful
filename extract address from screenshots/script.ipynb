{
 "cells": [
  {
   "cell_type": "code",
   "execution_count": null,
   "id": "9534ed2b",
   "metadata": {},
   "outputs": [],
   "source": [
    "import os\n",
    "import re\n",
    "\n",
    "def changeFileName(path):\n",
    "    # change current directory to the given path\n",
    "    os.chdir(path)\n",
    "    # get all the filenames\n",
    "    dirs = os.listdir(path)\n",
    "    i = 0\n",
    "    for old_name in dirs:\n",
    "        name_components = old_name.split(\".\")\n",
    "        to_modify = name_components[0]\n",
    "        # extract the No. of problems\n",
    "        old_num = re.findall(\"\\d+\", to_modify)[0]\n",
    "        zeros = 4 - len(old_num)\n",
    "        new_num = \"0\" * zeros + old_num\n",
    "        new_name = old_name.replace(old_num, new_num)\n",
    "         \n",
    "        #replace\n",
    "        os.rename(old_name, new_name)\n",
    "        "
   ]
  }
 ],
 "metadata": {
  "kernelspec": {
   "display_name": "Python 3",
   "language": "python",
   "name": "python3"
  },
  "language_info": {
   "codemirror_mode": {
    "name": "ipython",
    "version": 3
   },
   "file_extension": ".py",
   "mimetype": "text/x-python",
   "name": "python",
   "nbconvert_exporter": "python",
   "pygments_lexer": "ipython3",
   "version": "3.8.8"
  }
 },
 "nbformat": 4,
 "nbformat_minor": 5
}
