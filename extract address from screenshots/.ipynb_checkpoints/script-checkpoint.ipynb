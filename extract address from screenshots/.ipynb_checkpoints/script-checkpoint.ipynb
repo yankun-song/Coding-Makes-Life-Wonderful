{
 "cells": [
  {
   "cell_type": "markdown",
   "metadata": {},
   "source": [
    "# Pre-process"
   ]
  },
  {
   "cell_type": "code",
   "execution_count": 10,
   "metadata": {},
   "outputs": [],
   "source": [
    "def changeFileNames(path):\n",
    "    import os\n",
    "    import re\n",
    "    \n",
    "    # change current directory to the given path\n",
    "    os.chdir(path)\n",
    "    \n",
    "    # get all the filenames\n",
    "    dirs = os.listdir(path)\n",
    "    \n",
    "    i = 0\n",
    "    for old_name in dirs: \n",
    "        #replace\n",
    "        os.rename(old_name, str(i) + \".png\")\n",
    "        i += 1\n",
    "    return i\n",
    "        \n",
    "def writeFileNamesToTxt(output_path, n):\n",
    "    import os\n",
    "    import re\n",
    "    # change current directory to the given path\n",
    "    os.chdir(output_path)\n",
    "    \n",
    "    # save the filenames to a list\n",
    "    lines = [str(i) + \".png\" for i in range(n)]\n",
    "    # write the filenames\n",
    "    with open('savedlist.txt', 'w') as f:\n",
    "        for line in lines:\n",
    "            f.write(line)\n",
    "            f.write('\\n')"
   ]
  },
  {
   "cell_type": "code",
   "execution_count": 11,
   "metadata": {},
   "outputs": [],
   "source": [
    "## change the filenames into ordered number series\n",
    "pic_path = r\"/Users/yankunsong/Desktop/address\"\n",
    "file_count = changeFileNames(pic_path)\n",
    "\n",
    "## save the files into a .txt file for future use\n",
    "writeFileNamesToTxt(pic_path, file_count)"
   ]
  },
  {
   "cell_type": "markdown",
   "metadata": {},
   "source": [
    "# Use Tesseract for OCR"
   ]
  },
  {
   "cell_type": "markdown",
   "metadata": {},
   "source": [
    "run the following command in command line:"
   ]
  },
  {
   "cell_type": "markdown",
   "metadata": {},
   "source": [
    "tesseract savedlist.txt output"
   ]
  },
  {
   "cell_type": "markdown",
   "metadata": {},
   "source": [
    "# Extract address from output file"
   ]
  },
  {
   "cell_type": "markdown",
   "metadata": {},
   "source": [
    "## 1. save possible lines into a list"
   ]
  },
  {
   "cell_type": "code",
   "execution_count": 19,
   "metadata": {},
   "outputs": [
    {
     "name": "stdout",
     "output_type": "stream",
     "text": [
      "< TfFiFts 7238 (405755)  iS ih ae sig (eRad ae Py  417 S Genevieve Ln, San Jose, CA 95128, USA   mit   3012 Greenbriar Ct, San Jose, CA 95128, USA   a   3165 Payne Avenue APT 41, San Jose, CA 95117, USA   1085 Eden Ave, San Jose, CA 95117, USA   < TfFiFts 7238 (405755)  iS ih ae sig (eRad ae Py  417 S Genevieve Ln, San Jose, CA 95128, USA   mit   3012 Greenbriar Ct, San Jose, CA 95128, USA   a   3165 Payne Avenue APT 41, San Jose, CA 95117, USA   1085 Eden Ave, San Jose, CA 95117, USA   < TfFiFts 7238 (405755)  iS ih ae sig (eRad ae Py  417 S Genevieve Ln, San Jose, CA 95128, USA   mit   3012 Greenbriar Ct, San Jose, CA 95128, USA   a   3165 Payne Avenue APT 41, San Jose, CA 95117, USA   1085 Eden Ave, San Jose, CA 95117, USA   < TfFiFts 7238 (405755)  iS ih ae sig (eRad ae Py  417 S Genevieve Ln, San Jose, CA 95128, USA   mit   3012 Greenbriar Ct, San Jose, CA 95128, USA   a   3165 Payne Avenue APT 41, San Jose, CA 95117, USA   1085 Eden Ave, San Jose, CA 95117, USA   < TfFiFts 7238 (405755)  iS ih ae sig (eRad ae Py  417 S Genevieve Ln, San Jose, CA 95128, USA   mit   3012 Greenbriar Ct, San Jose, CA 95128, USA   a   3165 Payne Avenue APT 41, San Jose, CA 95117, USA   1085 Eden Ave, San Jose, CA 95117, USA   \n"
     ]
    }
   ],
   "source": [
    "path = r\"/Users/yankunsong/Desktop/address/output.txt\"\n",
    "possible_addresses = []\n",
    "\n",
    "with open(path, 'r') as f:\n",
    "    excludes = [\".\", \":\", \"[\"]\n",
    "    for line in f.readlines():\n",
    "        skip = False\n",
    "        for ch in excludes:\n",
    "            if ch in line:\n",
    "                skip = True\n",
    "                break\n",
    "        if not skip:\n",
    "            possible_addresses.append(line)"
   ]
  },
  {
   "cell_type": "markdown",
   "metadata": {},
   "source": [
    "## 2. concat the lines into a string"
   ]
  },
  {
   "cell_type": "code",
   "execution_count": null,
   "metadata": {},
   "outputs": [],
   "source": [
    "address_str = \"\".join(possible_addresses)\n",
    "address = address_str.replace(\"\\n\", \" \")"
   ]
  },
  {
   "cell_type": "markdown",
   "metadata": {},
   "source": [
    "## 3. use pyap to extract address"
   ]
  },
  {
   "cell_type": "code",
   "execution_count": 24,
   "metadata": {},
   "outputs": [
    {
     "name": "stdout",
     "output_type": "stream",
     "text": [
      "417 S Genevieve Ln, San Jose, CA 95128\n",
      "3012 Greenbriar Ct, San Jose, CA 95128\n",
      "3165 Payne Avenue APT 41, San Jose, CA 95117\n",
      "1085 Eden Ave, San Jose, CA 95117\n",
      "417 S Genevieve Ln, San Jose, CA 95128\n",
      "3012 Greenbriar Ct, San Jose, CA 95128\n",
      "3165 Payne Avenue APT 41, San Jose, CA 95117\n",
      "1085 Eden Ave, San Jose, CA 95117\n",
      "417 S Genevieve Ln, San Jose, CA 95128\n",
      "3012 Greenbriar Ct, San Jose, CA 95128\n",
      "3165 Payne Avenue APT 41, San Jose, CA 95117\n",
      "1085 Eden Ave, San Jose, CA 95117\n",
      "417 S Genevieve Ln, San Jose, CA 95128\n",
      "3012 Greenbriar Ct, San Jose, CA 95128\n",
      "3165 Payne Avenue APT 41, San Jose, CA 95117\n",
      "1085 Eden Ave, San Jose, CA 95117\n",
      "417 S Genevieve Ln, San Jose, CA 95128\n",
      "3012 Greenbriar Ct, San Jose, CA 95128\n",
      "3165 Payne Avenue APT 41, San Jose, CA 95117\n",
      "1085 Eden Ave, San Jose, CA 95117\n"
     ]
    }
   ],
   "source": [
    "import pyap\n",
    "results = pyap.parse(address, country='US')\n",
    "for result in results:\n",
    "    print(result)"
   ]
  },
  {
   "cell_type": "code",
   "execution_count": null,
   "metadata": {},
   "outputs": [],
   "source": []
  },
  {
   "cell_type": "code",
   "execution_count": null,
   "metadata": {},
   "outputs": [],
   "source": []
  },
  {
   "cell_type": "code",
   "execution_count": null,
   "metadata": {},
   "outputs": [],
   "source": []
  }
 ],
 "metadata": {
  "kernelspec": {
   "display_name": "Python 3",
   "language": "python",
   "name": "python3"
  },
  "language_info": {
   "codemirror_mode": {
    "name": "ipython",
    "version": 3
   },
   "file_extension": ".py",
   "mimetype": "text/x-python",
   "name": "python",
   "nbconvert_exporter": "python",
   "pygments_lexer": "ipython3",
   "version": "3.8.3"
  }
 },
 "nbformat": 4,
 "nbformat_minor": 5
}
